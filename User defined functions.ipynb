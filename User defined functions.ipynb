{
 "cells": [
  {
   "cell_type": "markdown",
   "id": "eab02ba7",
   "metadata": {},
   "source": [
    "# FUNCTIONS IN PYTHON"
   ]
  },
  {
   "cell_type": "markdown",
   "id": "552cfa6e",
   "metadata": {},
   "source": [
    "1. User defined function\n",
    "2. Function definitions:\n",
    "    A function definition defines a user-defined function object (see\n",
    "section The standard type hierarchy):"
   ]
  },
  {
   "cell_type": "code",
   "execution_count": 1,
   "id": "e579c075",
   "metadata": {},
   "outputs": [],
   "source": [
    "def functionname():\n",
    "    print(\"I am learning user defined functions\")"
   ]
  },
  {
   "cell_type": "code",
   "execution_count": 2,
   "id": "da6061e0",
   "metadata": {},
   "outputs": [
    {
     "name": "stdout",
     "output_type": "stream",
     "text": [
      "I am learning user defined functions\n"
     ]
    }
   ],
   "source": [
    "functionname()"
   ]
  },
  {
   "cell_type": "code",
   "execution_count": 3,
   "id": "b64a364c",
   "metadata": {},
   "outputs": [],
   "source": [
    "def function1():\n",
    "    print(\"creating function2\")"
   ]
  },
  {
   "cell_type": "code",
   "execution_count": 4,
   "id": "558de927",
   "metadata": {},
   "outputs": [
    {
     "name": "stdout",
     "output_type": "stream",
     "text": [
      "creating function2\n"
     ]
    }
   ],
   "source": [
    "function1()"
   ]
  },
  {
   "cell_type": "code",
   "execution_count": 7,
   "id": "32311cae",
   "metadata": {},
   "outputs": [],
   "source": [
    "def function2():\n",
    "    print(\"Inside function2\")"
   ]
  },
  {
   "cell_type": "code",
   "execution_count": 8,
   "id": "6712a173",
   "metadata": {},
   "outputs": [
    {
     "name": "stdout",
     "output_type": "stream",
     "text": [
      "Inside function2\n"
     ]
    }
   ],
   "source": [
    "function2()"
   ]
  },
  {
   "cell_type": "code",
   "execution_count": 9,
   "id": "65127fe0",
   "metadata": {},
   "outputs": [],
   "source": [
    "# step 1 is definatioon(line 1,3,7) and step 2 is a call (line 2,4,8)"
   ]
  },
  {
   "cell_type": "code",
   "execution_count": 10,
   "id": "5e465768",
   "metadata": {},
   "outputs": [],
   "source": [
    "def addfunction():\n",
    "    a=90\n",
    "    b=8\n",
    "    c=a+b\n",
    "    print(\"sum=\",c)"
   ]
  },
  {
   "cell_type": "code",
   "execution_count": 11,
   "id": "f5735dc0",
   "metadata": {},
   "outputs": [
    {
     "name": "stdout",
     "output_type": "stream",
     "text": [
      "sum= 98\n"
     ]
    }
   ],
   "source": [
    "addfunction()"
   ]
  },
  {
   "cell_type": "code",
   "execution_count": 12,
   "id": "5661089b",
   "metadata": {},
   "outputs": [],
   "source": [
    "# whenever we define a function we need to make a call."
   ]
  },
  {
   "cell_type": "code",
   "execution_count": 13,
   "id": "928ef2f6",
   "metadata": {},
   "outputs": [],
   "source": [
    "def multiplyfunc():\n",
    "    a=78\n",
    "    b=5\n",
    "    c=a*b\n",
    "    print(c)"
   ]
  },
  {
   "cell_type": "code",
   "execution_count": 14,
   "id": "761331c8",
   "metadata": {},
   "outputs": [
    {
     "name": "stdout",
     "output_type": "stream",
     "text": [
      "390\n"
     ]
    }
   ],
   "source": [
    "multiplyfunc()"
   ]
  },
  {
   "cell_type": "code",
   "execution_count": 23,
   "id": "1b5ccb7f",
   "metadata": {},
   "outputs": [],
   "source": [
    "def areaofrectangle():\n",
    "    length=56\n",
    "    breadth=4\n",
    "    area=length*breadth\n",
    "    print(\"Area of rectangle=\",area)\n",
    "    print(\"Area of rectangle with length=\",length,\"and breadth=\",breadth,\"is\",area)"
   ]
  },
  {
   "cell_type": "code",
   "execution_count": 24,
   "id": "9bddbb8c",
   "metadata": {},
   "outputs": [
    {
     "name": "stdout",
     "output_type": "stream",
     "text": [
      "Area of rectangle= 224\n",
      "Area of rectangle with length= 56 and breadth= 4 is 224\n"
     ]
    }
   ],
   "source": [
    "areaofrectangle()"
   ]
  },
  {
   "cell_type": "code",
   "execution_count": 37,
   "id": "89ebe586",
   "metadata": {},
   "outputs": [],
   "source": [
    "def areaoftraingle():\n",
    "    base=30\n",
    "    height=15\n",
    "    areatriangle= (1/2)*base*height\n",
    "    print(\"Area of traingle=\", areatriangle)"
   ]
  },
  {
   "cell_type": "code",
   "execution_count": 38,
   "id": "03dd8223",
   "metadata": {},
   "outputs": [
    {
     "name": "stdout",
     "output_type": "stream",
     "text": [
      "Area of traingle= 225.0\n"
     ]
    }
   ],
   "source": [
    "areaoftraingle()"
   ]
  },
  {
   "cell_type": "code",
   "execution_count": 35,
   "id": "23772af4",
   "metadata": {},
   "outputs": [],
   "source": [
    "def area_circle():\n",
    "    pi=3.14\n",
    "    radius=25\n",
    "    circlearea=pi*(radius**2)\n",
    "    print(\"Area of circle=\", circlearea)"
   ]
  },
  {
   "cell_type": "code",
   "execution_count": 36,
   "id": "d77d2655",
   "metadata": {},
   "outputs": [
    {
     "name": "stdout",
     "output_type": "stream",
     "text": [
      "Area of circle= 1962.5\n"
     ]
    }
   ],
   "source": [
    "area_circle()"
   ]
  },
  {
   "cell_type": "code",
   "execution_count": 39,
   "id": "ca187fc9",
   "metadata": {},
   "outputs": [],
   "source": [
    "def area_circle():\n",
    "    pi=3.14\n",
    "    radius=25\n",
    "    circlearea=pi*(radius**2)\n",
    "    print(\"Area of circle=\", int(circlearea))"
   ]
  },
  {
   "cell_type": "code",
   "execution_count": 40,
   "id": "56af06b9",
   "metadata": {},
   "outputs": [
    {
     "name": "stdout",
     "output_type": "stream",
     "text": [
      "Area of circle= 1962\n"
     ]
    }
   ],
   "source": [
    "area_circle()"
   ]
  },
  {
   "cell_type": "code",
   "execution_count": 49,
   "id": "ef32d05e",
   "metadata": {},
   "outputs": [],
   "source": [
    "def area_circle():\n",
    "    pi=3.14\n",
    "    radius=int(input(\"ENTER RADIUS VALUE\"))\n",
    "    circlearea=pi*(radius**2)\n",
    "    print(int(circlearea))"
   ]
  },
  {
   "cell_type": "code",
   "execution_count": 50,
   "id": "321b683f",
   "metadata": {},
   "outputs": [
    {
     "name": "stdout",
     "output_type": "stream",
     "text": [
      "ENTER RADIUS VALUE55\n",
      "9498\n"
     ]
    }
   ],
   "source": [
    "area_circle()"
   ]
  },
  {
   "cell_type": "code",
   "execution_count": 51,
   "id": "7f411b98",
   "metadata": {},
   "outputs": [],
   "source": [
    "def substractf():\n",
    "    a=100\n",
    "    b=80\n",
    "    c=a-b\n",
    "    return c"
   ]
  },
  {
   "cell_type": "code",
   "execution_count": 53,
   "id": "d2bd88c8",
   "metadata": {},
   "outputs": [],
   "source": [
    "p=substractf()"
   ]
  },
  {
   "cell_type": "code",
   "execution_count": 54,
   "id": "8dbd3f19",
   "metadata": {},
   "outputs": [
    {
     "data": {
      "text/plain": [
       "20"
      ]
     },
     "execution_count": 54,
     "metadata": {},
     "output_type": "execute_result"
    }
   ],
   "source": [
    "p"
   ]
  },
  {
   "cell_type": "code",
   "execution_count": 55,
   "id": "3d9b1d66",
   "metadata": {},
   "outputs": [],
   "source": [
    "# returnfunction will return the value"
   ]
  },
  {
   "cell_type": "code",
   "execution_count": 60,
   "id": "3072c789",
   "metadata": {},
   "outputs": [],
   "source": [
    "def sumfunction():\n",
    "    p=50\n",
    "    q=25\n",
    "    r=p+q\n",
    "    return r"
   ]
  },
  {
   "cell_type": "code",
   "execution_count": 61,
   "id": "5852bba4",
   "metadata": {},
   "outputs": [
    {
     "data": {
      "text/plain": [
       "75"
      ]
     },
     "execution_count": 61,
     "metadata": {},
     "output_type": "execute_result"
    }
   ],
   "source": [
    "sumfunction()"
   ]
  },
  {
   "cell_type": "code",
   "execution_count": 62,
   "id": "02c7847a",
   "metadata": {},
   "outputs": [],
   "source": [
    "def sumfunction():\n",
    "    p=50\n",
    "    q=25\n",
    "    r=p+q\n",
    "    return p\n",
    "    return q"
   ]
  },
  {
   "cell_type": "code",
   "execution_count": 63,
   "id": "4b087ced",
   "metadata": {},
   "outputs": [
    {
     "data": {
      "text/plain": [
       "50"
      ]
     },
     "execution_count": 63,
     "metadata": {},
     "output_type": "execute_result"
    }
   ],
   "source": [
    "sumfunction()"
   ]
  },
  {
   "cell_type": "code",
   "execution_count": 64,
   "id": "d0dfd7f7",
   "metadata": {},
   "outputs": [],
   "source": [
    "# 2 returns are not possible, return function only returns 1 value."
   ]
  },
  {
   "cell_type": "code",
   "execution_count": 66,
   "id": "cd2c8e8b",
   "metadata": {},
   "outputs": [],
   "source": [
    "def testf1():\n",
    "    list1=[]\n",
    "    for i in [100,200,300,400]:\n",
    "        list1.append(i)\n",
    "        print(list1)\n",
    "    print(\"Final list of numbers:\", list1)"
   ]
  },
  {
   "cell_type": "code",
   "execution_count": 67,
   "id": "1ce46379",
   "metadata": {},
   "outputs": [
    {
     "name": "stdout",
     "output_type": "stream",
     "text": [
      "[100]\n",
      "[100, 200]\n",
      "[100, 200, 300]\n",
      "[100, 200, 300, 400]\n",
      "Final list of numbers: [100, 200, 300, 400]\n"
     ]
    }
   ],
   "source": [
    "testf1()"
   ]
  },
  {
   "cell_type": "code",
   "execution_count": 76,
   "id": "23a079ef",
   "metadata": {},
   "outputs": [],
   "source": [
    "def testfunction():\n",
    "    list1=[]\n",
    "    for i in [\"A\",\"B\",\"C\",\"D\"]:\n",
    "        list1.append(i)\n",
    "        print(list1)"
   ]
  },
  {
   "cell_type": "code",
   "execution_count": 77,
   "id": "9780b0be",
   "metadata": {},
   "outputs": [
    {
     "name": "stdout",
     "output_type": "stream",
     "text": [
      "['A']\n",
      "['A', 'B']\n",
      "['A', 'B', 'C']\n",
      "['A', 'B', 'C', 'D']\n"
     ]
    }
   ],
   "source": [
    "testfunction()"
   ]
  },
  {
   "cell_type": "code",
   "execution_count": 82,
   "id": "e4664538",
   "metadata": {},
   "outputs": [],
   "source": [
    "def testfunction():\n",
    "    listchar=[]\n",
    "    for i in [\"A\",\"B\",\"C\",\"D\"]:\n",
    "        listchar.append(i)\n",
    "        print(listchar)\n",
    "    print(\"complete list of characters=\", listchar)"
   ]
  },
  {
   "cell_type": "code",
   "execution_count": 83,
   "id": "2ea583d3",
   "metadata": {},
   "outputs": [
    {
     "name": "stdout",
     "output_type": "stream",
     "text": [
      "['A']\n",
      "['A', 'B']\n",
      "['A', 'B', 'C']\n",
      "['A', 'B', 'C', 'D']\n",
      "complete list of characters= ['A', 'B', 'C', 'D']\n"
     ]
    }
   ],
   "source": [
    "testfunction()"
   ]
  },
  {
   "cell_type": "code",
   "execution_count": 84,
   "id": "e7935f68",
   "metadata": {},
   "outputs": [],
   "source": [
    "def testloop():\n",
    "    j=0\n",
    "    while(j<5):\n",
    "        print(j)\n",
    "        j=j+1"
   ]
  },
  {
   "cell_type": "code",
   "execution_count": 85,
   "id": "e3e36af3",
   "metadata": {},
   "outputs": [
    {
     "name": "stdout",
     "output_type": "stream",
     "text": [
      "0\n",
      "1\n",
      "2\n",
      "3\n",
      "4\n"
     ]
    }
   ],
   "source": [
    "testloop()"
   ]
  },
  {
   "cell_type": "markdown",
   "id": "06d40b3c",
   "metadata": {},
   "source": [
    "PARAMETRIC FUNCTION"
   ]
  },
  {
   "cell_type": "code",
   "execution_count": 91,
   "id": "a82ce1d6",
   "metadata": {},
   "outputs": [],
   "source": [
    "def addfunc(a,b):\n",
    "    c=a+b\n",
    "    print(c)"
   ]
  },
  {
   "cell_type": "code",
   "execution_count": 92,
   "id": "36d99ffd",
   "metadata": {},
   "outputs": [
    {
     "name": "stdout",
     "output_type": "stream",
     "text": [
      "70\n"
     ]
    }
   ],
   "source": [
    "addfunc(30,40)"
   ]
  },
  {
   "cell_type": "code",
   "execution_count": 93,
   "id": "0ef4ab2f",
   "metadata": {},
   "outputs": [],
   "source": [
    "# in parametric function we give parameters."
   ]
  },
  {
   "cell_type": "code",
   "execution_count": 94,
   "id": "c709b5b4",
   "metadata": {},
   "outputs": [
    {
     "name": "stdout",
     "output_type": "stream",
     "text": [
      "120\n"
     ]
    }
   ],
   "source": [
    "addfunc(50,70)"
   ]
  },
  {
   "cell_type": "code",
   "execution_count": 95,
   "id": "4214a7cd",
   "metadata": {},
   "outputs": [],
   "source": [
    "def substractfunc(a,b):\n",
    "    c=a-b\n",
    "    print(c)"
   ]
  },
  {
   "cell_type": "code",
   "execution_count": 96,
   "id": "ca9d32ab",
   "metadata": {},
   "outputs": [
    {
     "name": "stdout",
     "output_type": "stream",
     "text": [
      "3\n"
     ]
    }
   ],
   "source": [
    "substractfunc(5,2)"
   ]
  },
  {
   "cell_type": "code",
   "execution_count": 97,
   "id": "2ab4ef3b",
   "metadata": {},
   "outputs": [
    {
     "name": "stdout",
     "output_type": "stream",
     "text": [
      "25\n"
     ]
    }
   ],
   "source": [
    "substractfunc(50,25)"
   ]
  },
  {
   "cell_type": "markdown",
   "id": "4583bb28",
   "metadata": {},
   "source": [
    "# VARIABLE NUMBER OF ARGUMENTS:"
   ]
  },
  {
   "cell_type": "markdown",
   "id": "313756f0",
   "metadata": {},
   "source": [
    "In cases when you dont know the exact number of arguments that you want to pass to a function, you can use the following syntax with *args."
   ]
  },
  {
   "cell_type": "code",
   "execution_count": 1,
   "id": "bcc14c41",
   "metadata": {},
   "outputs": [],
   "source": [
    "def plus(*args):\n",
    "    return sum(args)"
   ]
  },
  {
   "cell_type": "code",
   "execution_count": 2,
   "id": "69f4f1b8",
   "metadata": {},
   "outputs": [
    {
     "data": {
      "text/plain": [
       "20"
      ]
     },
     "execution_count": 2,
     "metadata": {},
     "output_type": "execute_result"
    }
   ],
   "source": [
    "# calling a function\n",
    "plus(6,4,10)"
   ]
  },
  {
   "cell_type": "code",
   "execution_count": 3,
   "id": "2d114e81",
   "metadata": {},
   "outputs": [],
   "source": [
    "def mu(*args):\n",
    "    return max(args)"
   ]
  },
  {
   "cell_type": "code",
   "execution_count": 4,
   "id": "7741dfec",
   "metadata": {},
   "outputs": [
    {
     "data": {
      "text/plain": [
       "99"
      ]
     },
     "execution_count": 4,
     "metadata": {},
     "output_type": "execute_result"
    }
   ],
   "source": [
    "max(1,4,99,75,47)"
   ]
  },
  {
   "cell_type": "code",
   "execution_count": 8,
   "id": "ee89ab3a",
   "metadata": {},
   "outputs": [],
   "source": [
    "def mi(*args):\n",
    "    return min(args)\n",
    "    print (mi)"
   ]
  },
  {
   "cell_type": "code",
   "execution_count": 10,
   "id": "745b5b1f",
   "metadata": {},
   "outputs": [
    {
     "data": {
      "text/plain": [
       "1"
      ]
     },
     "execution_count": 10,
     "metadata": {},
     "output_type": "execute_result"
    }
   ],
   "source": [
    "mi(3,7,1,85)"
   ]
  },
  {
   "cell_type": "code",
   "execution_count": 11,
   "id": "f9c43b32",
   "metadata": {},
   "outputs": [],
   "source": [
    "# plus,mi,mu are the user defined functions are we have given this names but sum,max,min are the pre-defined functions."
   ]
  },
  {
   "cell_type": "code",
   "execution_count": 26,
   "id": "87c57908",
   "metadata": {},
   "outputs": [],
   "source": [
    "# s=s+n        for s+=n\n",
    "def sumfunc(*numbers):\n",
    "    s=0\n",
    "    for n in numbers:\n",
    "        s+=n\n",
    "    return s"
   ]
  },
  {
   "cell_type": "code",
   "execution_count": 27,
   "id": "9185a4e5",
   "metadata": {},
   "outputs": [
    {
     "name": "stdout",
     "output_type": "stream",
     "text": [
      "3\n"
     ]
    }
   ],
   "source": [
    "print (sumfunc(1,2))"
   ]
  },
  {
   "cell_type": "code",
   "execution_count": 28,
   "id": "b5c0d731",
   "metadata": {},
   "outputs": [
    {
     "name": "stdout",
     "output_type": "stream",
     "text": [
      "6\n"
     ]
    }
   ],
   "source": [
    "print (sumfunc(1,2,3))"
   ]
  },
  {
   "cell_type": "code",
   "execution_count": 29,
   "id": "b4fffb8e",
   "metadata": {},
   "outputs": [
    {
     "name": "stdout",
     "output_type": "stream",
     "text": [
      "10\n"
     ]
    }
   ],
   "source": [
    "print (sumfunc(1,2,3,4))"
   ]
  },
  {
   "cell_type": "code",
   "execution_count": 30,
   "id": "7f89f5fa",
   "metadata": {},
   "outputs": [
    {
     "name": "stdout",
     "output_type": "stream",
     "text": [
      "15\n"
     ]
    }
   ],
   "source": [
    "print (sumfunc(1,2,3,4,5))"
   ]
  },
  {
   "cell_type": "code",
   "execution_count": 31,
   "id": "006359c3",
   "metadata": {},
   "outputs": [],
   "source": [
    "# return s should be in line of for n in numbers:"
   ]
  },
  {
   "cell_type": "code",
   "execution_count": 36,
   "id": "840c6388",
   "metadata": {},
   "outputs": [],
   "source": [
    "def multifunc(*numbers):\n",
    "    s=1\n",
    "    for n in numbers:\n",
    "        s=s+n\n",
    "    return s"
   ]
  },
  {
   "cell_type": "code",
   "execution_count": 37,
   "id": "7e392096",
   "metadata": {},
   "outputs": [
    {
     "name": "stdout",
     "output_type": "stream",
     "text": [
      "4\n"
     ]
    }
   ],
   "source": [
    "print(multifunc(1,2))"
   ]
  },
  {
   "cell_type": "code",
   "execution_count": 38,
   "id": "51b416d8",
   "metadata": {},
   "outputs": [
    {
     "name": "stdout",
     "output_type": "stream",
     "text": [
      "7\n"
     ]
    }
   ],
   "source": [
    "print(multifunc(1,2,3))"
   ]
  },
  {
   "cell_type": "code",
   "execution_count": 39,
   "id": "ba0ea47e",
   "metadata": {},
   "outputs": [
    {
     "name": "stdout",
     "output_type": "stream",
     "text": [
      "11\n"
     ]
    }
   ],
   "source": [
    "print(multifunc(1,2,3,4))"
   ]
  }
 ],
 "metadata": {
  "kernelspec": {
   "display_name": "Python 3 (ipykernel)",
   "language": "python",
   "name": "python3"
  },
  "language_info": {
   "codemirror_mode": {
    "name": "ipython",
    "version": 3
   },
   "file_extension": ".py",
   "mimetype": "text/x-python",
   "name": "python",
   "nbconvert_exporter": "python",
   "pygments_lexer": "ipython3",
   "version": "3.9.7"
  }
 },
 "nbformat": 4,
 "nbformat_minor": 5
}
