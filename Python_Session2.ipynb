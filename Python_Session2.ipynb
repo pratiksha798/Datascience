{
 "cells": [
  {
   "cell_type": "markdown",
   "id": "94f0a9a5",
   "metadata": {},
   "source": [
    "# Typecasting"
   ]
  },
  {
   "cell_type": "code",
   "execution_count": 1,
   "id": "0d807fb5",
   "metadata": {},
   "outputs": [
    {
     "data": {
      "text/plain": [
       "int"
      ]
     },
     "execution_count": 1,
     "metadata": {},
     "output_type": "execute_result"
    }
   ],
   "source": [
    "type(90)"
   ]
  },
  {
   "cell_type": "markdown",
   "id": "e5614785",
   "metadata": {},
   "source": [
    "Datatypes"
   ]
  },
  {
   "cell_type": "markdown",
   "id": "471a0aea",
   "metadata": {},
   "source": [
    "1. Char or string datatypes (a,b,c,d) characters\n",
    "2. Integer (1,2,3,4) Numeric values\n",
    "3. Float (decimal values)(55.5,60.2)"
   ]
  },
  {
   "cell_type": "code",
   "execution_count": 2,
   "id": "180e3fbb",
   "metadata": {},
   "outputs": [
    {
     "data": {
      "text/plain": [
       "float"
      ]
     },
     "execution_count": 2,
     "metadata": {},
     "output_type": "execute_result"
    }
   ],
   "source": [
    "type(56.2)"
   ]
  },
  {
   "cell_type": "code",
   "execution_count": 4,
   "id": "fed84963",
   "metadata": {},
   "outputs": [
    {
     "data": {
      "text/plain": [
       "str"
      ]
     },
     "execution_count": 4,
     "metadata": {},
     "output_type": "execute_result"
    }
   ],
   "source": [
    "type(\"pratiksha\")"
   ]
  },
  {
   "cell_type": "code",
   "execution_count": 5,
   "id": "dd520b38",
   "metadata": {},
   "outputs": [
    {
     "data": {
      "text/plain": [
       "str"
      ]
     },
     "execution_count": 5,
     "metadata": {},
     "output_type": "execute_result"
    }
   ],
   "source": [
    "type('mumbai')"
   ]
  },
  {
   "cell_type": "code",
   "execution_count": 6,
   "id": "2af07b5c",
   "metadata": {},
   "outputs": [
    {
     "data": {
      "text/plain": [
       "float"
      ]
     },
     "execution_count": 6,
     "metadata": {},
     "output_type": "execute_result"
    }
   ],
   "source": [
    "type(55.5)"
   ]
  },
  {
   "cell_type": "code",
   "execution_count": 7,
   "id": "9736710b",
   "metadata": {},
   "outputs": [
    {
     "data": {
      "text/plain": [
       "int"
      ]
     },
     "execution_count": 7,
     "metadata": {},
     "output_type": "execute_result"
    }
   ],
   "source": [
    "type(7)"
   ]
  },
  {
   "cell_type": "code",
   "execution_count": 8,
   "id": "dc7a631a",
   "metadata": {},
   "outputs": [
    {
     "data": {
      "text/plain": [
       "int"
      ]
     },
     "execution_count": 8,
     "metadata": {},
     "output_type": "execute_result"
    }
   ],
   "source": [
    "p=65\n",
    "type(p)"
   ]
  },
  {
   "cell_type": "code",
   "execution_count": 9,
   "id": "009480ee",
   "metadata": {},
   "outputs": [],
   "source": [
    "# Type casting means we can change 1 type of data to another type of data."
   ]
  },
  {
   "cell_type": "code",
   "execution_count": 10,
   "id": "2af9b416",
   "metadata": {},
   "outputs": [
    {
     "data": {
      "text/plain": [
       "65.0"
      ]
     },
     "execution_count": 10,
     "metadata": {},
     "output_type": "execute_result"
    }
   ],
   "source": [
    "float(p)"
   ]
  },
  {
   "cell_type": "code",
   "execution_count": 11,
   "id": "7bfeeb3f",
   "metadata": {},
   "outputs": [
    {
     "data": {
      "text/plain": [
       "65"
      ]
     },
     "execution_count": 11,
     "metadata": {},
     "output_type": "execute_result"
    }
   ],
   "source": [
    "p"
   ]
  },
  {
   "cell_type": "code",
   "execution_count": 12,
   "id": "d70fbfb5",
   "metadata": {},
   "outputs": [
    {
     "data": {
      "text/plain": [
       "int"
      ]
     },
     "execution_count": 12,
     "metadata": {},
     "output_type": "execute_result"
    }
   ],
   "source": [
    "j=79\n",
    "type(j)"
   ]
  },
  {
   "cell_type": "code",
   "execution_count": 13,
   "id": "91f18626",
   "metadata": {},
   "outputs": [],
   "source": [
    "k=float(j)"
   ]
  },
  {
   "cell_type": "code",
   "execution_count": 14,
   "id": "baef82d6",
   "metadata": {},
   "outputs": [
    {
     "data": {
      "text/plain": [
       "79.0"
      ]
     },
     "execution_count": 14,
     "metadata": {},
     "output_type": "execute_result"
    }
   ],
   "source": [
    "k"
   ]
  },
  {
   "cell_type": "code",
   "execution_count": 15,
   "id": "431b9769",
   "metadata": {},
   "outputs": [
    {
     "data": {
      "text/plain": [
       "float"
      ]
     },
     "execution_count": 15,
     "metadata": {},
     "output_type": "execute_result"
    }
   ],
   "source": [
    "type(k)"
   ]
  },
  {
   "cell_type": "code",
   "execution_count": 16,
   "id": "d255b50c",
   "metadata": {},
   "outputs": [
    {
     "data": {
      "text/plain": [
       "str"
      ]
     },
     "execution_count": 16,
     "metadata": {},
     "output_type": "execute_result"
    }
   ],
   "source": [
    "x=\"20\"\n",
    "type(x)"
   ]
  },
  {
   "cell_type": "code",
   "execution_count": null,
   "id": "16a3ba26",
   "metadata": {},
   "outputs": [],
   "source": []
  }
 ],
 "metadata": {
  "kernelspec": {
   "display_name": "Python 3 (ipykernel)",
   "language": "python",
   "name": "python3"
  },
  "language_info": {
   "codemirror_mode": {
    "name": "ipython",
    "version": 3
   },
   "file_extension": ".py",
   "mimetype": "text/x-python",
   "name": "python",
   "nbconvert_exporter": "python",
   "pygments_lexer": "ipython3",
   "version": "3.9.7"
  }
 },
 "nbformat": 4,
 "nbformat_minor": 5
}
